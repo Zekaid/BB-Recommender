{
 "cells": [
  {
   "cell_type": "code",
   "execution_count": 55,
   "id": "07ad6b17",
   "metadata": {},
   "outputs": [],
   "source": [
    "import json\n",
    "from collections import defaultdict\n",
    "from sklearn import linear_model\n",
    "import numpy\n",
    "import random\n",
    "import gzip\n",
    "import dateutil.parser\n",
    "import math"
   ]
  },
  {
   "cell_type": "code",
   "execution_count": 56,
   "id": "0e6a1e4d-c80f-4030-8770-1d719320bb93",
   "metadata": {},
   "outputs": [],
   "source": [
    "answers = {}"
   ]
  },
  {
   "cell_type": "code",
   "execution_count": 57,
   "id": "f6885040-d9f2-461a-a2c8-ba31f83eafaa",
   "metadata": {},
   "outputs": [],
   "source": [
    "def assertFloat(x):\n",
    "    assert type(float(x)) == float\n",
    "\n",
    "def assertFloatList(items, N):\n",
    "    assert len(items) == N\n",
    "    assert [type(float(x)) for x in items] == [float]*N"
   ]
  },
  {
   "cell_type": "code",
   "execution_count": 58,
   "id": "ab71afc7-f078-4439-ba7d-5e348f44266c",
   "metadata": {},
   "outputs": [],
   "source": [
    "### Question 1"
   ]
  },
  {
   "cell_type": "code",
   "execution_count": 59,
   "id": "7f8461d9-fb56-4218-b3f7-7c153005baa3",
   "metadata": {},
   "outputs": [],
   "source": [
    "f = gzip.open(\"fantasy_10000.json.gz\")\n",
    "dataset = []\n",
    "for l in f:\n",
    "    dataset.append(json.loads(l))"
   ]
  },
  {
   "cell_type": "code",
   "execution_count": 60,
   "id": "40df0499",
   "metadata": {},
   "outputs": [],
   "source": [
    "max_len = 0\n",
    "for d in dataset:\n",
    "    max_len = max(max_len, len(d['review_text']))"
   ]
  },
  {
   "cell_type": "code",
   "execution_count": 61,
   "id": "9dc58396-c9f4-4a94-b62e-74e03064ca24",
   "metadata": {},
   "outputs": [],
   "source": [
    "def feature(datum):\n",
    "    a = len(datum['review_text']) / max_len\n",
    "    return [1, a]"
   ]
  },
  {
   "cell_type": "code",
   "execution_count": 62,
   "id": "f1ebbbb2-d5ae-405e-a02d-7307265387b8",
   "metadata": {},
   "outputs": [],
   "source": [
    "X = [feature(d) for d in dataset]\n",
    "Y = [d['rating'] for d in dataset]"
   ]
  },
  {
   "cell_type": "code",
   "execution_count": 63,
   "id": "ddce5f82-7fbd-416d-8700-6460b54d1815",
   "metadata": {
    "scrolled": true
   },
   "outputs": [
    {
     "name": "stderr",
     "output_type": "stream",
     "text": [
      "/var/folders/bt/6mqz_lz50mz9_rc05y1r513h0000gn/T/ipykernel_1357/1537809470.py:1: FutureWarning: `rcond` parameter will change to the default of machine precision times ``max(M, N)`` where M and N are the input matrix dimensions.\n",
      "To use the future default and silence this warning we advise to pass `rcond=None`, to keep using the old, explicitly pass `rcond=-1`.\n",
      "  theta, residuals, rank, s = numpy.linalg.lstsq(X,Y)\n"
     ]
    }
   ],
   "source": [
    "theta, residuals, rank, s = numpy.linalg.lstsq(X,Y)\n",
    "Y_pred = [theta[0] + theta[1] * x[1] for x in X]\n",
    "MSE = numpy.mean(residuals) / len(dataset) "
   ]
  },
  {
   "cell_type": "code",
   "execution_count": 64,
   "id": "aff0ac61-0957-4d3d-ba0b-2db2b222026d",
   "metadata": {},
   "outputs": [],
   "source": [
    "answers['Q1'] = [theta[0], theta[1], MSE]"
   ]
  },
  {
   "cell_type": "code",
   "execution_count": 65,
   "id": "1d6a1c2a-c1cf-4b17-bd42-687499297c8c",
   "metadata": {},
   "outputs": [],
   "source": [
    "assertFloatList(answers['Q1'], 3)"
   ]
  },
  {
   "cell_type": "code",
   "execution_count": 66,
   "id": "a8e3b548-53bc-47ad-bc45-d63fc4af95ce",
   "metadata": {},
   "outputs": [],
   "source": [
    "### Question 2"
   ]
  },
  {
   "cell_type": "code",
   "execution_count": 67,
   "id": "6331a843-78ac-4764-bf37-5dd234f09229",
   "metadata": {},
   "outputs": [],
   "source": [
    "for d in dataset:\n",
    "    t = dateutil.parser.parse(d['date_added'])\n",
    "    d['parsed_date'] = [t.weekday(), t.month]"
   ]
  },
  {
   "cell_type": "code",
   "execution_count": 68,
   "id": "abce94cf-a7ca-4eef-b5fa-920349ee1003",
   "metadata": {},
   "outputs": [],
   "source": [
    "def feature(datum):\n",
    "    a = len(datum['review_text']) / max_len\n",
    "    b = [0] * 6\n",
    "    c = [0] * 11\n",
    "    weekday, month = datum['parsed_date']\n",
    "    if weekday != 0:\n",
    "        b[weekday-1] = 1\n",
    "    if month != 1:\n",
    "        c[month-2] = 1\n",
    "    return [1, a] + b + c"
   ]
  },
  {
   "cell_type": "code",
   "execution_count": 69,
   "id": "18be1bc1-7cc0-4249-9b0c-513c37b86665",
   "metadata": {},
   "outputs": [],
   "source": [
    "X = [feature(d) for d in dataset]\n",
    "Y = [d['rating'] for d in dataset]"
   ]
  },
  {
   "cell_type": "code",
   "execution_count": null,
   "id": "809574d3-2d4d-422e-b6f8-b9ce6404412f",
   "metadata": {},
   "outputs": [],
   "source": []
  },
  {
   "cell_type": "code",
   "execution_count": 70,
   "id": "21f3258e-b3a1-40bd-90bb-8a5b23b537c7",
   "metadata": {},
   "outputs": [],
   "source": [
    "answers['Q2'] = [X[0], X[1]]"
   ]
  },
  {
   "cell_type": "code",
   "execution_count": 71,
   "id": "c28bda14-710b-47f2-9747-6d5f09d958ae",
   "metadata": {},
   "outputs": [],
   "source": [
    "assertFloatList(answers['Q2'][0], 19)\n",
    "assertFloatList(answers['Q2'][1], 19)"
   ]
  },
  {
   "cell_type": "code",
   "execution_count": 72,
   "id": "35d18540-6413-4459-8082-0f8cc1d3e276",
   "metadata": {},
   "outputs": [],
   "source": [
    "### Question 3"
   ]
  },
  {
   "cell_type": "code",
   "execution_count": 73,
   "id": "939c02d3-eb26-4e65-96a2-d55fc41d2209",
   "metadata": {},
   "outputs": [],
   "source": [
    "def feature3(datum):\n",
    "    a = len(datum['review_text']) / max_len\n",
    "    b, c = datum['parsed_date']\n",
    "    return [1, a, b, c]"
   ]
  },
  {
   "cell_type": "code",
   "execution_count": 74,
   "id": "3efaacd2-6ac8-4a3c-8d32-60ad8f389917",
   "metadata": {},
   "outputs": [],
   "source": [
    "X3 = [feature3(d) for d in dataset]\n",
    "Y3 = [d['rating'] for d in dataset]"
   ]
  },
  {
   "cell_type": "code",
   "execution_count": 75,
   "id": "595220ef-b8b2-4377-9e2c-1743495b9c24",
   "metadata": {},
   "outputs": [
    {
     "name": "stderr",
     "output_type": "stream",
     "text": [
      "/var/folders/bt/6mqz_lz50mz9_rc05y1r513h0000gn/T/ipykernel_1357/1153287447.py:1: FutureWarning: `rcond` parameter will change to the default of machine precision times ``max(M, N)`` where M and N are the input matrix dimensions.\n",
      "To use the future default and silence this warning we advise to pass `rcond=None`, to keep using the old, explicitly pass `rcond=-1`.\n",
      "  theta, residuals, rank, s = numpy.linalg.lstsq(X,Y)\n",
      "/var/folders/bt/6mqz_lz50mz9_rc05y1r513h0000gn/T/ipykernel_1357/1153287447.py:2: FutureWarning: `rcond` parameter will change to the default of machine precision times ``max(M, N)`` where M and N are the input matrix dimensions.\n",
      "To use the future default and silence this warning we advise to pass `rcond=None`, to keep using the old, explicitly pass `rcond=-1`.\n",
      "  theta3, residuals3, rank3, s3 = numpy.linalg.lstsq(X3,Y3)\n"
     ]
    }
   ],
   "source": [
    "theta, residuals, rank, s = numpy.linalg.lstsq(X,Y)\n",
    "theta3, residuals3, rank3, s3 = numpy.linalg.lstsq(X3,Y3)\n",
    "mse2 = numpy.mean(residuals) / len(dataset)\n",
    "mse3 = numpy.mean(residuals3) / len(dataset) "
   ]
  },
  {
   "cell_type": "code",
   "execution_count": 76,
   "id": "5d2e124d-10d4-4147-a2d3-172c50f47029",
   "metadata": {},
   "outputs": [],
   "source": [
    "answers['Q3'] = [mse2, mse3]"
   ]
  },
  {
   "cell_type": "code",
   "execution_count": 77,
   "id": "289b8ec1-53bd-4796-9613-b3557fffd84d",
   "metadata": {},
   "outputs": [],
   "source": [
    "assertFloatList(answers['Q3'], 2)"
   ]
  },
  {
   "cell_type": "code",
   "execution_count": 78,
   "id": "6d89e772-b1ad-46fc-aeb8-45a6df15fa5d",
   "metadata": {},
   "outputs": [],
   "source": [
    "### Question 4"
   ]
  },
  {
   "cell_type": "code",
   "execution_count": 79,
   "id": "54ab0a2f-9efa-4035-96ba-dbce8c86f039",
   "metadata": {},
   "outputs": [],
   "source": [
    "random.seed(0)\n",
    "random.shuffle(dataset)"
   ]
  },
  {
   "cell_type": "code",
   "execution_count": 80,
   "id": "d1029574-b4c4-4675-83ad-c20674a2428b",
   "metadata": {},
   "outputs": [],
   "source": [
    "X2 = [feature(d) for d in dataset]\n",
    "X3 = [feature3(d) for d in dataset]\n",
    "Y = [d['rating'] for d in dataset]"
   ]
  },
  {
   "cell_type": "code",
   "execution_count": 81,
   "id": "4d289580-a10d-48a5-85ae-2d3e77b007d1",
   "metadata": {},
   "outputs": [],
   "source": [
    "train2, test2 = X2[:len(X2)//2], X2[len(X2)//2:]\n",
    "train3, test3 = X3[:len(X3)//2], X3[len(X3)//2:]\n",
    "trainY, testY = Y[:len(Y)//2], Y[len(Y)//2:]"
   ]
  },
  {
   "cell_type": "code",
   "execution_count": 82,
   "id": "176e0c4d-fb63-4e5e-bb86-c0ee92a4f602",
   "metadata": {},
   "outputs": [
    {
     "name": "stderr",
     "output_type": "stream",
     "text": [
      "/var/folders/bt/6mqz_lz50mz9_rc05y1r513h0000gn/T/ipykernel_1357/3021926274.py:1: FutureWarning: `rcond` parameter will change to the default of machine precision times ``max(M, N)`` where M and N are the input matrix dimensions.\n",
      "To use the future default and silence this warning we advise to pass `rcond=None`, to keep using the old, explicitly pass `rcond=-1`.\n",
      "  theta2, residuals2, rank2, s2 = numpy.linalg.lstsq(test2,testY)\n",
      "/var/folders/bt/6mqz_lz50mz9_rc05y1r513h0000gn/T/ipykernel_1357/3021926274.py:2: FutureWarning: `rcond` parameter will change to the default of machine precision times ``max(M, N)`` where M and N are the input matrix dimensions.\n",
      "To use the future default and silence this warning we advise to pass `rcond=None`, to keep using the old, explicitly pass `rcond=-1`.\n",
      "  theta3, residuals3, rank3, s3 = numpy.linalg.lstsq(test3,testY)\n"
     ]
    }
   ],
   "source": [
    "theta2, residuals2, rank2, s2 = numpy.linalg.lstsq(test2,testY)\n",
    "theta3, residuals3, rank3, s3 = numpy.linalg.lstsq(test3,testY)\n",
    "test_mse2 = numpy.mean(residuals2) / len(test2)\n",
    "test_mse3 = numpy.mean(residuals3) / len(test3)"
   ]
  },
  {
   "cell_type": "code",
   "execution_count": 83,
   "id": "6cfc160b-eab4-406d-8ff3-e9e1670bbbf0",
   "metadata": {},
   "outputs": [],
   "source": [
    "answers['Q4'] = [test_mse2, test_mse3]"
   ]
  },
  {
   "cell_type": "code",
   "execution_count": 84,
   "id": "453c7ca7-8649-4722-9d6a-1980b536e7fa",
   "metadata": {},
   "outputs": [],
   "source": [
    "assertFloatList(answers['Q4'], 2)"
   ]
  },
  {
   "cell_type": "code",
   "execution_count": 85,
   "id": "3a38cc78-c502-4ad1-b2db-d8358c0caa3e",
   "metadata": {},
   "outputs": [],
   "source": [
    "### Question 5"
   ]
  },
  {
   "cell_type": "code",
   "execution_count": 86,
   "id": "7dde2008-33d7-4fa9-8303-ea639bf54203",
   "metadata": {},
   "outputs": [],
   "source": [
    "f = open(\"beer_50000.json\")\n",
    "dataset = []\n",
    "for l in f:\n",
    "    dataset.append(eval(l))"
   ]
  },
  {
   "cell_type": "code",
   "execution_count": null,
   "id": "7e76f545-a0dd-4c97-9693-82d859880a99",
   "metadata": {},
   "outputs": [],
   "source": []
  },
  {
   "cell_type": "code",
   "execution_count": 87,
   "id": "cabb75ec-826a-497e-b158-f5c340aea4d2",
   "metadata": {},
   "outputs": [],
   "source": [
    "X = [[1,len(d['review/text'])] for d in dataset]\n",
    "y = [d['review/overall'] >= 4 for d in dataset]"
   ]
  },
  {
   "cell_type": "code",
   "execution_count": 88,
   "id": "04323540-48d2-4129-84c6-f3fe1d012179",
   "metadata": {},
   "outputs": [],
   "source": [
    "mod = linear_model.LogisticRegression(C=1.0,class_weight='balanced')\n",
    "mod.fit(X,y)\n",
    "pred = mod.predict(X)\n",
    "pred = pred.tolist()"
   ]
  },
  {
   "cell_type": "code",
   "execution_count": 89,
   "id": "67866d15-cd7a-4643-87a6-d20fa7135428",
   "metadata": {},
   "outputs": [],
   "source": [
    "TP = sum([(a and b) for (a,b) in zip(pred,y)])\n",
    "TN = sum([(not a and not b) for (a,b) in zip(pred,y)])\n",
    "FP = sum([(a and not b) for (a,b) in zip(pred,y)])\n",
    "FN = sum([(not a and b) for (a,b) in zip(pred,y)])\n",
    "TPR = TP / (TP + FN)\n",
    "TNR = TN / (TN + FP)"
   ]
  },
  {
   "cell_type": "code",
   "execution_count": 90,
   "id": "e3b8297c-444e-4832-8f75-fae48d074162",
   "metadata": {},
   "outputs": [],
   "source": [
    "BER = 1 - 0.5 * (TPR + TNR)"
   ]
  },
  {
   "cell_type": "code",
   "execution_count": 91,
   "id": "e4cf3f97-14ee-4c2b-a1b0-e5df323bfc28",
   "metadata": {},
   "outputs": [],
   "source": [
    "answers['Q5'] = [TP, TN, FP, FN, BER]"
   ]
  },
  {
   "cell_type": "code",
   "execution_count": 92,
   "id": "bb92ee88-4f3c-44fc-a9c0-57e377f9c068",
   "metadata": {},
   "outputs": [],
   "source": [
    "assertFloatList(answers['Q5'], 5)"
   ]
  },
  {
   "cell_type": "code",
   "execution_count": 93,
   "id": "a3c14955-d174-473b-bf2b-a2b98776685e",
   "metadata": {},
   "outputs": [],
   "source": [
    "### Question 6"
   ]
  },
  {
   "cell_type": "code",
   "execution_count": 94,
   "id": "2a71178c-589e-433c-8bdb-70c5e1510fce",
   "metadata": {},
   "outputs": [],
   "source": [
    "scores = mod.decision_function(X)\n",
    "scores_labels = list(zip(scores,y))\n",
    "scores_labels.sort(reverse=True)\n",
    "sorted_labels = [x[1] for x in scores_labels]"
   ]
  },
  {
   "cell_type": "code",
   "execution_count": 95,
   "id": "93cdb65b-4cd4-47f1-a4f6-50f0b68a6fda",
   "metadata": {},
   "outputs": [],
   "source": [
    "precs = []"
   ]
  },
  {
   "cell_type": "code",
   "execution_count": 96,
   "id": "5a936845-ac24-4e7d-b24a-7aa54ab20fcb",
   "metadata": {},
   "outputs": [],
   "source": [
    "for k in [1,100,1000,10000]:\n",
    "    precs.append(sum(sorted_labels[:k]) / k)"
   ]
  },
  {
   "cell_type": "code",
   "execution_count": 97,
   "id": "2926f098-8166-4748-9ad5-97ece5d67869",
   "metadata": {},
   "outputs": [],
   "source": [
    "answers['Q6'] = precs"
   ]
  },
  {
   "cell_type": "code",
   "execution_count": 98,
   "id": "934b27e5-eddc-4cd5-9dd5-5d91a17c9f53",
   "metadata": {},
   "outputs": [],
   "source": [
    "assertFloatList(answers['Q6'], 4)"
   ]
  },
  {
   "cell_type": "code",
   "execution_count": 99,
   "id": "e8291f55-cfa1-4979-bcaa-42a238e9a844",
   "metadata": {},
   "outputs": [],
   "source": [
    "### Question 7"
   ]
  },
  {
   "cell_type": "code",
   "execution_count": 100,
   "id": "cef0c655-2a38-4186-887c-355bc5575356",
   "metadata": {},
   "outputs": [],
   "source": [
    "X = [[1,len(d['review/text']),d['review/taste'],d['review/aroma']] for d in dataset]\n",
    "mod.fit(X,y)\n",
    "pred = mod.predict(X)\n",
    "pred = pred.tolist()\n",
    "TP = sum([(a and b) for (a,b) in zip(pred,y)])\n",
    "TN = sum([(not a and not b) for (a,b) in zip(pred,y)])\n",
    "FP = sum([(a and not b) for (a,b) in zip(pred,y)])\n",
    "FN = sum([(not a and b) for (a,b) in zip(pred,y)])\n",
    "TPR = TP / (TP + FN)\n",
    "TNR = TN / (TN + FP)\n",
    "BER = 1 - 0.5 * (TPR + TNR)"
   ]
  },
  {
   "cell_type": "code",
   "execution_count": 101,
   "id": "8ab81b75-b051-4b2c-bb3e-64fd95cc0b27",
   "metadata": {},
   "outputs": [],
   "source": [
    "answers['Q7'] = [\"I added more features to X (review of aroma and taste) to increase the accuracy of the predictor\", BER]"
   ]
  },
  {
   "cell_type": "code",
   "execution_count": 102,
   "id": "06383de7",
   "metadata": {},
   "outputs": [],
   "source": [
    "f = open(\"answers_hw1.txt\", 'w')\n",
    "f.write(str(answers) + '\\n')\n",
    "f.close()"
   ]
  },
  {
   "cell_type": "code",
   "execution_count": null,
   "id": "ba2af41f-6b90-4db0-95a8-243bd09a003e",
   "metadata": {},
   "outputs": [],
   "source": []
  }
 ],
 "metadata": {
  "kernelspec": {
   "display_name": "Python 3 (ipykernel)",
   "language": "python",
   "name": "python3"
  },
  "language_info": {
   "codemirror_mode": {
    "name": "ipython",
    "version": 3
   },
   "file_extension": ".py",
   "mimetype": "text/x-python",
   "name": "python",
   "nbconvert_exporter": "python",
   "pygments_lexer": "ipython3",
   "version": "3.10.9"
  }
 },
 "nbformat": 4,
 "nbformat_minor": 5
}
