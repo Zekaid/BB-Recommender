{
 "cells": [
  {
   "cell_type": "code",
   "execution_count": 187,
   "metadata": {},
   "outputs": [],
   "source": [
    "import gzip\n",
    "from collections import defaultdict\n",
    "import math\n",
    "import scipy.optimize\n",
    "from sklearn import svm\n",
    "import numpy\n",
    "import string\n",
    "import random\n",
    "import string\n",
    "from sklearn import linear_model\n",
    "import tarfile \n",
    "from implicit import bpr\n",
    "import tensorflow as tf"
   ]
  },
  {
   "cell_type": "code",
   "execution_count": 188,
   "metadata": {},
   "outputs": [],
   "source": [
    "def readJSON(path):\n",
    "    f = gzip.open(path, 'rt')\n",
    "    f.readline()\n",
    "    for l in f:\n",
    "        d = eval(l)\n",
    "        u = d['userID']\n",
    "        g = d['gameID']\n",
    "        yield u,g,d"
   ]
  },
  {
   "cell_type": "code",
   "execution_count": 189,
   "metadata": {},
   "outputs": [],
   "source": [
    "dataset = []\n",
    "for l in readJSON(\"train.json.gz\"):\n",
    "    dataset.append(l)"
   ]
  },
  {
   "cell_type": "code",
   "execution_count": 190,
   "metadata": {},
   "outputs": [],
   "source": [
    "userIDs,itemIDs = {},{}\n",
    "sample = []\n",
    "interactions = []\n",
    "allItems = set()\n",
    "itemsPerUser = defaultdict(set)\n",
    "usersPerItem = defaultdict(set)\n",
    "itemCount = defaultdict(int)\n",
    "total = 0\n",
    "\n",
    "for u,g,_ in dataset:\n",
    "    sample.append((u,g,1))\n",
    "    itemsPerUser[u].add(g)\n",
    "    usersPerItem[g].add(u)\n",
    "    allItems.add(g)\n",
    "    itemCount[g] += 1\n",
    "    total += 1\n",
    "    if not u in userIDs: userIDs[u] = len(userIDs)\n",
    "    if not g in itemIDs: itemIDs[g] = len(itemIDs)\n",
    "\n",
    "isPopular = []\n",
    "mostPopular = [(itemCount[x], x) for x in itemCount]\n",
    "mostPopular.sort()\n",
    "mostPopular.reverse()\n",
    "\n",
    "count = 0\n",
    "for ic, i in mostPopular:\n",
    "    count += ic\n",
    "    isPopular.append(i)\n",
    "    if count > total * 0.5:\n",
    "        break\n",
    "    \n",
    "nUsers,nItems = len(userIDs),len(itemIDs)"
   ]
  },
  {
   "cell_type": "code",
   "execution_count": 191,
   "metadata": {},
   "outputs": [],
   "source": [
    "items = list(itemIDs.keys())"
   ]
  },
  {
   "cell_type": "code",
   "execution_count": 192,
   "metadata": {},
   "outputs": [],
   "source": [
    "class BPRbatch(tf.keras.Model):\n",
    "    def __init__(self, K, lamb):\n",
    "        super(BPRbatch, self).__init__()\n",
    "        # Initialize variables\n",
    "        self.betaI = tf.Variable(tf.random.normal([len(itemIDs)],stddev=0.001))\n",
    "        self.gammaU = tf.Variable(tf.random.normal([len(userIDs),K],stddev=0.001))\n",
    "        self.gammaI = tf.Variable(tf.random.normal([len(itemIDs),K],stddev=0.001))\n",
    "        # Regularization coefficient\n",
    "        self.lamb = lamb\n",
    "\n",
    "    # Prediction for a single instance\n",
    "    def predict(self, u, i):\n",
    "        p = self.betaI[i] + tf.tensordot(self.gammaU[u], self.gammaI[i], 1)\n",
    "        return p\n",
    "\n",
    "    # Regularizer\n",
    "    def reg(self):\n",
    "        return self.lamb * (tf.nn.l2_loss(self.betaI) +\\\n",
    "                            tf.nn.l2_loss(self.gammaU) +\\\n",
    "                            tf.nn.l2_loss(self.gammaI))\n",
    "    \n",
    "    def score(self, sampleU, sampleI):\n",
    "        u = tf.convert_to_tensor(sampleU, dtype=tf.int32)\n",
    "        i = tf.convert_to_tensor(sampleI, dtype=tf.int32)\n",
    "        beta_i = tf.nn.embedding_lookup(self.betaI, i)\n",
    "        gamma_u = tf.nn.embedding_lookup(self.gammaU, u)\n",
    "        gamma_i = tf.nn.embedding_lookup(self.gammaI, i)\n",
    "        x_ui = beta_i + tf.reduce_sum(tf.multiply(gamma_u, gamma_i), 1)\n",
    "        return x_ui\n",
    "\n",
    "    def call(self, sampleU, sampleI, sampleJ):\n",
    "        x_ui = self.score(sampleU, sampleI)\n",
    "        x_uj = self.score(sampleU, sampleJ)\n",
    "        return -tf.reduce_mean(tf.math.log(tf.math.sigmoid(x_ui - x_uj)))"
   ]
  },
  {
   "cell_type": "code",
   "execution_count": 193,
   "metadata": {},
   "outputs": [
    {
     "name": "stderr",
     "output_type": "stream",
     "text": [
      "WARNING:absl:At this time, the v2.11+ optimizer `tf.keras.optimizers.Adam` runs slowly on M1/M2 Macs, please use the legacy Keras optimizer instead, located at `tf.keras.optimizers.legacy.Adam`.\n"
     ]
    }
   ],
   "source": [
    "optimizer = tf.keras.optimizers.Adam(0.1)"
   ]
  },
  {
   "cell_type": "code",
   "execution_count": 194,
   "metadata": {},
   "outputs": [],
   "source": [
    "modelBPR = BPRbatch(5, 0.00001)"
   ]
  },
  {
   "cell_type": "code",
   "execution_count": 195,
   "metadata": {},
   "outputs": [],
   "source": [
    "def trainingStepBPR(model, interaction):\n",
    "    Nsamples = 50000\n",
    "    with tf.GradientTape() as tape:\n",
    "        sampleU, sampleI, sampleJ = [], [], []\n",
    "        for _ in range(Nsamples):\n",
    "            u,i,_ = random.choice(interaction) # positive sample\n",
    "            j = random.choice(list(allItems.difference(itemsPerUser[u]))) # negative sample\n",
    "            while j in itemsPerUser[u]:\n",
    "                j = random.choice(items)\n",
    "            sampleU.append(userIDs[u])\n",
    "            sampleI.append(itemIDs[i])\n",
    "            sampleJ.append(itemIDs[j])\n",
    "\n",
    "        loss = model(sampleU,sampleI,sampleJ)\n",
    "        loss += model.reg()\n",
    "    gradients = tape.gradient(loss, model.trainable_variables)\n",
    "    optimizer.apply_gradients((grad, var) for\n",
    "                              (grad, var) in zip(gradients, model.trainable_variables)\n",
    "                              if grad is not None)\n",
    "    return loss.numpy()"
   ]
  },
  {
   "cell_type": "code",
   "execution_count": 196,
   "metadata": {},
   "outputs": [
    {
     "name": "stdout",
     "output_type": "stream",
     "text": [
      "iteration 10, objective = 0.5108999\n",
      "iteration 20, objective = 0.48332793\n",
      "iteration 30, objective = 0.47399753\n",
      "iteration 40, objective = 0.46034557\n",
      "iteration 50, objective = 0.45629472\n",
      "iteration 60, objective = 0.45243314\n",
      "iteration 70, objective = 0.44801155\n",
      "iteration 80, objective = 0.44625986\n",
      "iteration 90, objective = 0.44294336\n",
      "iteration 100, objective = 0.4446679\n",
      "iteration 110, objective = 0.4437706\n",
      "iteration 120, objective = 0.44518203\n",
      "iteration 130, objective = 0.43935502\n",
      "iteration 140, objective = 0.44386712\n",
      "iteration 150, objective = 0.44133848\n",
      "iteration 160, objective = 0.44336075\n",
      "iteration 170, objective = 0.43982622\n",
      "iteration 180, objective = 0.43985367\n",
      "iteration 190, objective = 0.4400969\n",
      "iteration 200, objective = 0.44245327\n"
     ]
    }
   ],
   "source": [
    "for i in range(200):\n",
    "    obj = trainingStepBPR(modelBPR, sample)\n",
    "    if (i % 10 == 9): print(\"iteration \" + str(i+1) + \", objective = \" + str(obj))"
   ]
  },
  {
   "cell_type": "code",
   "execution_count": 197,
   "metadata": {},
   "outputs": [],
   "source": [
    "predictions_csv = open(\"predictions_Played.csv\", 'w')\n",
    "index = 0\n",
    "for l in open(\"pairs_Played.csv\"):\n",
    "    if l.startswith(\"userID\"):\n",
    "        predictions_csv.write(l)\n",
    "        continue\n",
    "    u,g = l.strip().split(',')\n",
    "    if u in userIDs and g in itemIDs:\n",
    "        pred = modelBPR.predict(userIDs[u], itemIDs[g]).numpy() > 0.45\n",
    "    else:\n",
    "        pred = g in isPopular\n",
    "    _ = predictions_csv.write(u + ',' + g + ',' + str(int(pred)) + '\\n')\n",
    "    index += 1\n",
    "predictions_csv.close()"
   ]
  },
  {
   "cell_type": "code",
   "execution_count": null,
   "metadata": {},
   "outputs": [],
   "source": []
  },
  {
   "cell_type": "code",
   "execution_count": 379,
   "metadata": {},
   "outputs": [],
   "source": [
    "userHours = defaultdict(list)\n",
    "itemHours = defaultdict(list)\n",
    "rating = {}\n",
    "globalAverage = 0\n",
    "\n",
    "for u,g,d in dataset:\n",
    "    h = d['hours_transformed']\n",
    "    userHours[u].append(d)\n",
    "    itemHours[g].append(d)\n",
    "    globalAverage += h\n",
    "    \n",
    "betaU = {}\n",
    "betaI = {}\n",
    "\n",
    "for u in userHours:\n",
    "    betaU[u] = numpy.mean([d['hours_transformed'] for d in userHours[u]])\n",
    "for g in itemHours:\n",
    "    betaI[g] = numpy.mean([d['hours_transformed'] for d in itemHours[g]])\n",
    "    \n",
    "alpha = globalAverage"
   ]
  },
  {
   "cell_type": "code",
   "execution_count": 382,
   "metadata": {},
   "outputs": [],
   "source": [
    "def iterate(lamb):\n",
    "    temp = 0\n",
    "    for u,g,d in dataset:\n",
    "        temp += (d['hours_transformed'] - (betaU[u] + betaI[g]))\n",
    "    alpha = temp / len(dataset)\n",
    "    for u, ds in userHours.items():\n",
    "        temp = 0\n",
    "        for d in ds:\n",
    "            g = d[\"gameID\"]\n",
    "            temp += (d['hours_transformed'] - (alpha + betaI[g]))\n",
    "        betaU[u] = temp / (lamb + len(ds))\n",
    "    for g, ds in itemHours.items():\n",
    "        temp = 0\n",
    "        for d in ds:\n",
    "            u = d[\"userID\"]\n",
    "            temp += (d['hours_transformed'] - (alpha + betaU[u]))\n",
    "        betaI[g] = temp / (lamb + len(ds))"
   ]
  },
  {
   "cell_type": "code",
   "execution_count": 389,
   "metadata": {},
   "outputs": [],
   "source": [
    "for i in range(200):\n",
    "    iterate(5)"
   ]
  },
  {
   "cell_type": "code",
   "execution_count": 390,
   "metadata": {},
   "outputs": [],
   "source": [
    "def feat(u,g):\n",
    "    bu, bi = 0, 0\n",
    "    if u in betaU:\n",
    "        bu = betaU[u]\n",
    "    if g in betaI:\n",
    "        bi = betaI[g]\n",
    "    return alpha + bu + bi"
   ]
  },
  {
   "cell_type": "code",
   "execution_count": 391,
   "metadata": {},
   "outputs": [],
   "source": [
    "predictions_csv = open(\"predictions_Hours.csv\", 'w')\n",
    "for l in open(\"pairs_Hours.csv\"):\n",
    "    if l.startswith(\"userID\"):\n",
    "        predictions_csv.write(l)\n",
    "        continue\n",
    "    u,g = l.strip().split(',')\n",
    "    _ = predictions_csv.write(u + ',' + g + ',' + str(tp.predict(u,g)) + '\\n')\n",
    "    index += 1\n",
    "predictions_csv.close()"
   ]
  },
  {
   "cell_type": "code",
   "execution_count": null,
   "metadata": {},
   "outputs": [],
   "source": []
  }
 ],
 "metadata": {
  "kernelspec": {
   "display_name": "Python 3 (ipykernel)",
   "language": "python",
   "name": "python3"
  },
  "language_info": {
   "codemirror_mode": {
    "name": "ipython",
    "version": 3
   },
   "file_extension": ".py",
   "mimetype": "text/x-python",
   "name": "python",
   "nbconvert_exporter": "python",
   "pygments_lexer": "ipython3",
   "version": "3.11.3"
  }
 },
 "nbformat": 4,
 "nbformat_minor": 4
}
