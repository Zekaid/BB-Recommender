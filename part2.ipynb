{
 "cells": [
  {
   "cell_type": "code",
   "execution_count": 968,
   "id": "d998586d",
   "metadata": {},
   "outputs": [],
   "source": [
    "import random\n",
    "from sklearn import linear_model\n",
    "from matplotlib import pyplot as plt\n",
    "from collections import defaultdict\n",
    "import gzip\n",
    "from datetime import date\n",
    "import math"
   ]
  },
  {
   "cell_type": "code",
   "execution_count": 909,
   "id": "f17a95c1",
   "metadata": {},
   "outputs": [],
   "source": [
    "def assertFloat(x):\n",
    "    assert type(float(x)) == float\n",
    "\n",
    "def assertFloatList(items, N):\n",
    "    assert len(items) == N\n",
    "    assert [type(float(x)) for x in items] == [float]*N"
   ]
  },
  {
   "cell_type": "code",
   "execution_count": 910,
   "id": "4a87f98f-715c-4bc5-9b06-ac92e1ad7a22",
   "metadata": {},
   "outputs": [],
   "source": [
    "answers = {}"
   ]
  },
  {
   "cell_type": "code",
   "execution_count": 911,
   "id": "a851f13d-134a-4ce4-8bd2-df5f606ac9dd",
   "metadata": {},
   "outputs": [],
   "source": [
    "def parseData(fname):\n",
    "    for l in open(fname):\n",
    "        yield eval(l)"
   ]
  },
  {
   "cell_type": "code",
   "execution_count": 912,
   "id": "ba796d3e-294d-403c-8b81-b3f4a85523d4",
   "metadata": {},
   "outputs": [],
   "source": [
    "data = list(parseData(\"beer_50000.json\"))\n",
    "max_review_len = 0\n",
    "for d in data:\n",
    "    max_review_len = max(max_review_len,len(d['review/text']))"
   ]
  },
  {
   "cell_type": "code",
   "execution_count": 913,
   "id": "6100b434-b50d-4dff-b986-61ce07aa6a39",
   "metadata": {},
   "outputs": [],
   "source": [
    "random.seed(0)\n",
    "random.shuffle(data)"
   ]
  },
  {
   "cell_type": "code",
   "execution_count": 914,
   "id": "a6e9582d-279e-4a0d-bcad-e85018bd4ffb",
   "metadata": {},
   "outputs": [],
   "source": [
    "dataTrain = data[:25000]\n",
    "dataValid = data[25000:37500]\n",
    "dataTest = data[37500:]"
   ]
  },
  {
   "cell_type": "code",
   "execution_count": 915,
   "id": "d3b17174-8ad6-4a98-ac3f-1a431c730cfd",
   "metadata": {},
   "outputs": [],
   "source": [
    "yTrain = [d['beer/ABV'] > 7 for d in dataTrain]\n",
    "yValid = [d['beer/ABV'] > 7 for d in dataValid]\n",
    "yTest = [d['beer/ABV'] > 7 for d in dataTest]"
   ]
  },
  {
   "cell_type": "code",
   "execution_count": 916,
   "id": "9c3c2547-047d-4e15-ac5d-4abe64a91a6a",
   "metadata": {},
   "outputs": [],
   "source": [
    "def feature(datum,dict):\n",
    "    a = [0] * len(dict)\n",
    "    if datum['beer/style'] in dict:\n",
    "        index = dict[datum['beer/style']]\n",
    "        a[index] = 1 \n",
    "    return [1] + a\n",
    "\n",
    "def feature2(datum,dict):\n",
    "    a = [0] * len(dict)    \n",
    "    if datum['beer/style'] in dict:\n",
    "        index = dict[datum['beer/style']]\n",
    "        a[index] = 1 \n",
    "    r = [datum['review/appearance'],datum['review/palate'],datum['review/taste'],datum['review/overall'],datum['review/aroma'],len(datum['review/text'])/max_review_len]\n",
    "    \n",
    "    return [1] + a + r\n",
    "\n",
    "def feature_no_cat(datum):\n",
    "    r = [datum['review/appearance'],datum['review/palate'],datum['review/taste'],datum['review/overall'],datum['review/aroma'],len(datum['review/text'])/max_review_len]\n",
    "    return [1] + r\n",
    "\n",
    "def feature_no_review(datum,dict):\n",
    "    a = [0] * len(dict)\n",
    "    if datum['beer/style'] in dict:\n",
    "        index = dict[datum['beer/style']]\n",
    "        a[index] = 1 \n",
    "    return [1] + a + [len(datum['review/text'])/max_review_len]\n",
    "\n",
    "def feature_no_length(datum,dict):\n",
    "    a = [0] * len(dict)    \n",
    "    if datum['beer/style'] in dict:\n",
    "        index = dict[datum['beer/style']]\n",
    "        a[index] = 1 \n",
    "    r = [datum['review/appearance'],datum['review/palate'],datum['review/taste'],datum['review/overall'],datum['review/aroma']]\n",
    "    return [1] + a + r\n",
    "\n",
    "    \n",
    "def getBER(pred,y):\n",
    "    TP = sum([(a and b) for (a,b) in zip(pred,y)])\n",
    "    TN = sum([(not a and not b) for (a,b) in zip(pred,y)])\n",
    "    FP = sum([(a and not b) for (a,b) in zip(pred,y)])\n",
    "    FN = sum([(not a and b) for (a,b) in zip(pred,y)])\n",
    "    TPR = TP / (TP + FN)\n",
    "    TNR = TN / (TN + FP)\n",
    "    BER = 1 - 0.5 * (TPR + TNR)\n",
    "    return BER\n",
    "    "
   ]
  },
  {
   "cell_type": "code",
   "execution_count": 917,
   "id": "a7712018-f883-4a4c-9ba0-9ae9287c6b31",
   "metadata": {},
   "outputs": [],
   "source": [
    "categoryCounts = defaultdict(int)\n",
    "for d in data:\n",
    "    categoryCounts[d['beer/style']] += 1"
   ]
  },
  {
   "cell_type": "code",
   "execution_count": 918,
   "id": "e82da2c2-43a6-4269-87a3-5fd5ef92f3b0",
   "metadata": {},
   "outputs": [],
   "source": [
    "categories = [c for c in categoryCounts if categoryCounts[c] > 1000]"
   ]
  },
  {
   "cell_type": "code",
   "execution_count": 919,
   "id": "1c838c5c-6c59-4049-8201-68c376dd4295",
   "metadata": {},
   "outputs": [],
   "source": [
    "catID = dict(zip(list(categories),range(len(categories))))"
   ]
  },
  {
   "cell_type": "code",
   "execution_count": 920,
   "id": "b7bbafdd-9c35-4b24-8d7c-1474430bcb06",
   "metadata": {},
   "outputs": [
    {
     "name": "stderr",
     "output_type": "stream",
     "text": [
      "/Users/drace/anaconda3/lib/python3.10/site-packages/sklearn/linear_model/_logistic.py:460: ConvergenceWarning: lbfgs failed to converge (status=1):\n",
      "STOP: TOTAL NO. of ITERATIONS REACHED LIMIT.\n",
      "\n",
      "Increase the number of iterations (max_iter) or scale the data as shown in:\n",
      "    https://scikit-learn.org/stable/modules/preprocessing.html\n",
      "Please also refer to the documentation for alternative solver options:\n",
      "    https://scikit-learn.org/stable/modules/linear_model.html#logistic-regression\n",
      "  n_iter_i = _check_optimize_result(\n"
     ]
    }
   ],
   "source": [
    "xTrain = [feature(d,catID) for d in dataTrain]\n",
    "xValid = [feature(d,catID) for d in dataValid]\n",
    "xTest = [feature(d,catID) for d in dataTest]\n",
    "mod = linear_model.LogisticRegression(C=10,class_weight='balanced')\n",
    "mod.fit(xTrain,yTrain)\n",
    "pred = mod.predict(xValid)\n",
    "pred = pred.tolist()\n",
    "validBER = getBER(pred,yValid)\n",
    "pred = mod.predict(xTest)\n",
    "pred = pred.tolist()\n",
    "testBER = getBER(pred,yTest)"
   ]
  },
  {
   "cell_type": "code",
   "execution_count": 921,
   "id": "7dbd03fa-5329-405f-9023-7690f9a45c86",
   "metadata": {},
   "outputs": [],
   "source": [
    "def feat(d, includeCat = True, includeReview = True, includeLength = True):\n",
    "    pass"
   ]
  },
  {
   "cell_type": "code",
   "execution_count": 922,
   "id": "8f8b3562-5ca9-4648-855c-7b597273b25f",
   "metadata": {},
   "outputs": [],
   "source": [
    "def pipeline(reg, includeCat = True, includeReview = True, includeLength = True):\n",
    "    pass"
   ]
  },
  {
   "cell_type": "code",
   "execution_count": 923,
   "id": "14486a0e-c501-4988-abb5-ab70c1cd3e66",
   "metadata": {},
   "outputs": [],
   "source": [
    "### Question 1"
   ]
  },
  {
   "cell_type": "code",
   "execution_count": null,
   "id": "900cb7ce-fb76-401d-a95e-66053bed0445",
   "metadata": {},
   "outputs": [],
   "source": []
  },
  {
   "cell_type": "code",
   "execution_count": 924,
   "id": "cf2571b3-6999-4714-a4aa-62dab31937bb",
   "metadata": {},
   "outputs": [
    {
     "data": {
      "text/plain": [
       "{'Q1': [0.16130237168160533, 0.1607838024608832]}"
      ]
     },
     "execution_count": 924,
     "metadata": {},
     "output_type": "execute_result"
    }
   ],
   "source": [
    "answers['Q1'] = [validBER, testBER]\n",
    "answers"
   ]
  },
  {
   "cell_type": "code",
   "execution_count": 925,
   "id": "f899b683-3a9c-4f65-9167-54938589f12c",
   "metadata": {},
   "outputs": [],
   "source": [
    "assertFloatList(answers['Q1'], 2)"
   ]
  },
  {
   "cell_type": "code",
   "execution_count": 926,
   "id": "a5724e91-cbd9-4e44-8a20-7a8cc350c1a4",
   "metadata": {},
   "outputs": [],
   "source": [
    "### Question 2"
   ]
  },
  {
   "cell_type": "code",
   "execution_count": 927,
   "id": "f707bfa2-cdd6-43fd-8bff-724e1a28f185",
   "metadata": {},
   "outputs": [
    {
     "name": "stderr",
     "output_type": "stream",
     "text": [
      "/Users/drace/anaconda3/lib/python3.10/site-packages/sklearn/linear_model/_logistic.py:460: ConvergenceWarning: lbfgs failed to converge (status=1):\n",
      "STOP: TOTAL NO. of ITERATIONS REACHED LIMIT.\n",
      "\n",
      "Increase the number of iterations (max_iter) or scale the data as shown in:\n",
      "    https://scikit-learn.org/stable/modules/preprocessing.html\n",
      "Please also refer to the documentation for alternative solver options:\n",
      "    https://scikit-learn.org/stable/modules/linear_model.html#logistic-regression\n",
      "  n_iter_i = _check_optimize_result(\n"
     ]
    }
   ],
   "source": [
    "xTrain = [feature2(d,catID) for d in dataTrain]\n",
    "xValid = [feature2(d,catID) for d in dataValid]\n",
    "xTest = [feature2(d,catID) for d in dataTest]\n",
    "mod = linear_model.LogisticRegression(C=10,class_weight='balanced')\n",
    "mod.fit(xTrain,yTrain)\n",
    "pred = mod.predict(xValid)\n",
    "pred = pred.tolist()\n",
    "validBER = getBER(pred,yValid)\n",
    "pred = mod.predict(xTest)\n",
    "pred = pred.tolist()\n",
    "testBER = getBER(pred,yTest)"
   ]
  },
  {
   "cell_type": "code",
   "execution_count": 928,
   "id": "23daba7d-3f75-4d50-b393-34992f4710cc",
   "metadata": {},
   "outputs": [],
   "source": [
    "answers['Q2'] = [validBER, testBER]"
   ]
  },
  {
   "cell_type": "code",
   "execution_count": 929,
   "id": "ecb8d0b4-d4c8-4419-a7c1-febb78fd44f5",
   "metadata": {},
   "outputs": [],
   "source": [
    "assertFloatList(answers['Q2'], 2)"
   ]
  },
  {
   "cell_type": "code",
   "execution_count": 930,
   "id": "6e65d346-5020-429b-90ed-4d52d7c97b4f",
   "metadata": {},
   "outputs": [],
   "source": [
    "### Question 3"
   ]
  },
  {
   "cell_type": "code",
   "execution_count": 931,
   "id": "c97f0b41-0914-4649-984f-252e03ff9b08",
   "metadata": {},
   "outputs": [
    {
     "name": "stderr",
     "output_type": "stream",
     "text": [
      "/Users/drace/anaconda3/lib/python3.10/site-packages/sklearn/linear_model/_logistic.py:460: ConvergenceWarning: lbfgs failed to converge (status=1):\n",
      "STOP: TOTAL NO. of ITERATIONS REACHED LIMIT.\n",
      "\n",
      "Increase the number of iterations (max_iter) or scale the data as shown in:\n",
      "    https://scikit-learn.org/stable/modules/preprocessing.html\n",
      "Please also refer to the documentation for alternative solver options:\n",
      "    https://scikit-learn.org/stable/modules/linear_model.html#logistic-regression\n",
      "  n_iter_i = _check_optimize_result(\n",
      "/Users/drace/anaconda3/lib/python3.10/site-packages/sklearn/linear_model/_logistic.py:460: ConvergenceWarning: lbfgs failed to converge (status=1):\n",
      "STOP: TOTAL NO. of ITERATIONS REACHED LIMIT.\n",
      "\n",
      "Increase the number of iterations (max_iter) or scale the data as shown in:\n",
      "    https://scikit-learn.org/stable/modules/preprocessing.html\n",
      "Please also refer to the documentation for alternative solver options:\n",
      "    https://scikit-learn.org/stable/modules/linear_model.html#logistic-regression\n",
      "  n_iter_i = _check_optimize_result(\n",
      "/Users/drace/anaconda3/lib/python3.10/site-packages/sklearn/linear_model/_logistic.py:460: ConvergenceWarning: lbfgs failed to converge (status=1):\n",
      "STOP: TOTAL NO. of ITERATIONS REACHED LIMIT.\n",
      "\n",
      "Increase the number of iterations (max_iter) or scale the data as shown in:\n",
      "    https://scikit-learn.org/stable/modules/preprocessing.html\n",
      "Please also refer to the documentation for alternative solver options:\n",
      "    https://scikit-learn.org/stable/modules/linear_model.html#logistic-regression\n",
      "  n_iter_i = _check_optimize_result(\n"
     ]
    }
   ],
   "source": [
    "bestValidBER = float('inf')\n",
    "bestTestBER = float('inf')\n",
    "bestC = None\n",
    "for c in [0.001, 0.01, 0.1, 1, 10]:\n",
    "    xTrain = [feature2(d,catID) for d in dataTrain]\n",
    "    xValid = [feature2(d,catID) for d in dataValid]\n",
    "    xTest = [feature2(d,catID) for d in dataTest]\n",
    "    mod = linear_model.LogisticRegression(C=c,class_weight='balanced')\n",
    "    mod.fit(xTrain,yTrain)\n",
    "    pred = mod.predict(xValid)\n",
    "    pred = pred.tolist()\n",
    "    validBER = getBER(pred,yValid)\n",
    "    pred = mod.predict(xTest)\n",
    "    pred = pred.tolist()\n",
    "    testBER = getBER(pred,yTest)\n",
    "    if validBER < bestValidBER:\n",
    "        bestValidBER = validBER\n",
    "        bestTestBER = testBER\n",
    "        bestC = c"
   ]
  },
  {
   "cell_type": "code",
   "execution_count": null,
   "id": "0d0f5628-46f4-430d-8e84-99a97b9d81a2",
   "metadata": {},
   "outputs": [],
   "source": []
  },
  {
   "cell_type": "code",
   "execution_count": null,
   "id": "06ae5223-330b-42f0-bce3-66fe2526e126",
   "metadata": {},
   "outputs": [],
   "source": []
  },
  {
   "cell_type": "code",
   "execution_count": 932,
   "id": "812e0e27-424f-4389-9a65-d19d470910cd",
   "metadata": {},
   "outputs": [
    {
     "data": {
      "text/plain": [
       "[0.1, 0.14178602689235864, 0.1432448216318316]"
      ]
     },
     "execution_count": 932,
     "metadata": {},
     "output_type": "execute_result"
    }
   ],
   "source": [
    "answers['Q3'] = [bestC, validBER, testBER]\n",
    "answers['Q3']"
   ]
  },
  {
   "cell_type": "code",
   "execution_count": 933,
   "id": "362bb32f-f81e-4f3e-9c8b-24b6beeee794",
   "metadata": {},
   "outputs": [],
   "source": [
    "assertFloatList(answers['Q3'], 3)"
   ]
  },
  {
   "cell_type": "code",
   "execution_count": 934,
   "id": "6e31986b-646d-4bac-b578-517c6f2c02b9",
   "metadata": {},
   "outputs": [],
   "source": [
    "### Question 4"
   ]
  },
  {
   "cell_type": "code",
   "execution_count": 935,
   "id": "e13dfbba-c13e-4e60-b243-6f7145096dd8",
   "metadata": {},
   "outputs": [],
   "source": [
    "xTrain = [feature_no_cat(d) for d in dataTrain]\n",
    "xValid = [feature_no_cat(d) for d in dataValid]\n",
    "xTest = [feature_no_cat(d) for d in dataTest]\n",
    "mod = linear_model.LogisticRegression(C=1,class_weight='balanced')\n",
    "mod.fit(xTrain,yTrain)\n",
    "pred = mod.predict(xValid)\n",
    "pred = pred.tolist()\n",
    "validBER = getBER(pred,yValid)\n",
    "pred = mod.predict(xTest)\n",
    "pred = pred.tolist()\n",
    "testBER = getBER(pred,yTest)\n",
    "testBER_noCat = testBER"
   ]
  },
  {
   "cell_type": "code",
   "execution_count": 936,
   "id": "d2c4f168-c3e6-4d1c-ad39-7804ff5a1a5f",
   "metadata": {},
   "outputs": [],
   "source": [
    "xTrain = [feature_no_review(d,catID) for d in dataTrain]\n",
    "xValid = [feature_no_review(d,catID) for d in dataValid]\n",
    "xTest = [feature_no_review(d,catID) for d in dataTest]\n",
    "mod = linear_model.LogisticRegression(C=1,class_weight='balanced')\n",
    "mod.fit(xTrain,yTrain)\n",
    "pred = mod.predict(xValid)\n",
    "pred = pred.tolist()\n",
    "validBER = getBER(pred,yValid)\n",
    "pred = mod.predict(xTest)\n",
    "pred = pred.tolist()\n",
    "testBER = getBER(pred,yTest)\n",
    "testBER_noReview = testBER"
   ]
  },
  {
   "cell_type": "code",
   "execution_count": 937,
   "id": "bc7c86a0-2e6a-48bc-828a-8b805786a41d",
   "metadata": {},
   "outputs": [
    {
     "name": "stderr",
     "output_type": "stream",
     "text": [
      "/Users/drace/anaconda3/lib/python3.10/site-packages/sklearn/linear_model/_logistic.py:460: ConvergenceWarning: lbfgs failed to converge (status=1):\n",
      "STOP: TOTAL NO. of ITERATIONS REACHED LIMIT.\n",
      "\n",
      "Increase the number of iterations (max_iter) or scale the data as shown in:\n",
      "    https://scikit-learn.org/stable/modules/preprocessing.html\n",
      "Please also refer to the documentation for alternative solver options:\n",
      "    https://scikit-learn.org/stable/modules/linear_model.html#logistic-regression\n",
      "  n_iter_i = _check_optimize_result(\n"
     ]
    }
   ],
   "source": [
    "xTrain = [feature_no_length(d,catID) for d in dataTrain]\n",
    "xValid = [feature_no_length(d,catID) for d in dataValid]\n",
    "xTest = [feature_no_length(d,catID) for d in dataTest]\n",
    "mod = linear_model.LogisticRegression(C=1,class_weight='balanced')\n",
    "mod.fit(xTrain,yTrain)\n",
    "pred = mod.predict(xValid)\n",
    "pred = pred.tolist()\n",
    "validBER = getBER(pred,yValid)\n",
    "pred = mod.predict(xTest)\n",
    "pred = pred.tolist()\n",
    "testBER = getBER(pred,yTest)\n",
    "testBER_noLength = testBER"
   ]
  },
  {
   "cell_type": "code",
   "execution_count": 938,
   "id": "b3f5794b-10c9-41b3-bbf4-05b346fffcfb",
   "metadata": {},
   "outputs": [
    {
     "data": {
      "text/plain": [
       "[0.3138624152215086, 0.16109632033831978, 0.14635254958101407]"
      ]
     },
     "execution_count": 938,
     "metadata": {},
     "output_type": "execute_result"
    }
   ],
   "source": [
    "answers['Q4'] = [testBER_noCat, testBER_noReview, testBER_noLength]\n",
    "answers['Q4']"
   ]
  },
  {
   "cell_type": "code",
   "execution_count": 939,
   "id": "0c3a712d-90cd-4a67-afe1-cca63b84e498",
   "metadata": {},
   "outputs": [],
   "source": [
    "assertFloatList(answers['Q4'], 3)"
   ]
  },
  {
   "cell_type": "code",
   "execution_count": 940,
   "id": "614e7747-143a-43e5-a0bd-1709c3bc4b50",
   "metadata": {},
   "outputs": [],
   "source": [
    "### Question 5"
   ]
  },
  {
   "cell_type": "code",
   "execution_count": 941,
   "id": "fe681798-bbd6-4d9b-ae30-f1431b9bebaf",
   "metadata": {},
   "outputs": [],
   "source": [
    "path = \"amazon_reviews_us_Musical_Instruments_v1_00.tsv\"\n",
    "f = open(path, 'rt', encoding=\"utf8\")\n",
    "\n",
    "header = f.readline()\n",
    "header = header.strip().split('\\t')"
   ]
  },
  {
   "cell_type": "code",
   "execution_count": 942,
   "id": "36a79b1c-a4bf-4e5d-bc5d-e5e9bfd333f3",
   "metadata": {},
   "outputs": [
    {
     "data": {
      "text/plain": [
       "['marketplace',\n",
       " 'customer_id',\n",
       " 'review_id',\n",
       " 'product_id',\n",
       " 'product_parent',\n",
       " 'product_title',\n",
       " 'product_category',\n",
       " 'star_rating',\n",
       " 'helpful_votes',\n",
       " 'total_votes',\n",
       " 'vine',\n",
       " 'verified_purchase',\n",
       " 'review_headline',\n",
       " 'review_body',\n",
       " 'review_date']"
      ]
     },
     "execution_count": 942,
     "metadata": {},
     "output_type": "execute_result"
    }
   ],
   "source": [
    "header"
   ]
  },
  {
   "cell_type": "code",
   "execution_count": 943,
   "id": "01c5fd53-ddd9-4f65-b602-f33dcd411ab2",
   "metadata": {},
   "outputs": [
    {
     "name": "stdout",
     "output_type": "stream",
     "text": [
      "Skipping duplicate user/item: ('46953315', 'B00QM3CNN6')\n",
      "Skipping duplicate user/item: ('31616428', 'B0026RB0G8')\n",
      "Skipping duplicate user/item: ('47240912', 'B008I653SC')\n",
      "Skipping duplicate user/item: ('14503091', 'B003FRMRC4')\n",
      "Skipping duplicate user/item: ('38538360', 'B00HVLUR86')\n",
      "Skipping duplicate user/item: ('43448024', 'B00HVLUR86')\n",
      "Skipping duplicate user/item: ('51525270', 'B00HVLUR86')\n",
      "Skipping duplicate user/item: ('20652160', 'B004OU2IQG')\n",
      "Skipping duplicate user/item: ('10964440', 'B00HVLUR86')\n",
      "Skipping duplicate user/item: ('20043677', 'B00HVLUR86')\n",
      "Skipping duplicate user/item: ('44796499', 'B00HVLUSGM')\n",
      "Skipping duplicate user/item: ('29066899', 'B0002CZSYO')\n",
      "Skipping duplicate user/item: ('10385056', 'B004OU2IQG')\n",
      "Skipping duplicate user/item: ('1658551', 'B00HVLURL8')\n",
      "Skipping duplicate user/item: ('907433', 'B00N9Q2E5G')\n",
      "Skipping duplicate user/item: ('39412969', 'B00HVLUR86')\n",
      "Skipping duplicate user/item: ('4901688', 'B00HVLUR86')\n",
      "Skipping duplicate user/item: ('23458093', 'B005CX4GLE')\n",
      "Skipping duplicate user/item: ('38515272', 'B00HVLUSGM')\n",
      "Skipping duplicate user/item: ('11577442', 'B004OU2IQG')\n",
      "Skipping duplicate user/item: ('33123229', 'B0002CZSZ8')\n",
      "Skipping duplicate user/item: ('1473221', 'B00HVLURL8')\n",
      "Skipping duplicate user/item: ('1473221', 'B004OU2IQG')\n",
      "Skipping duplicate user/item: ('1658551', 'B004OU2IQG')\n",
      "Skipping duplicate user/item: ('43576831', 'B00MUFJXTM')\n",
      "Skipping duplicate user/item: ('31983516', 'B00HVLUR86')\n",
      "Skipping duplicate user/item: ('14312454', 'B004OU2IQG')\n",
      "Skipping duplicate user/item: ('30290991', 'B004OU2IQG')\n",
      "Skipping duplicate user/item: ('2714455', 'B003VWKPHC')\n",
      "Skipping duplicate user/item: ('19347026', 'B00B9QONQQ')\n",
      "Skipping duplicate user/item: ('44303814', 'B00HVLUSGM')\n",
      "Skipping duplicate user/item: ('7586067', 'B0002D0A82')\n",
      "Skipping duplicate user/item: ('45224935', 'B00NICSAVI')\n",
      "Skipping duplicate user/item: ('15394678', 'B00LTZTPJM')\n",
      "Skipping duplicate user/item: ('13593540', 'B0002D0CK8')\n",
      "Skipping duplicate user/item: ('4032226', 'B000BKJPQY')\n",
      "Skipping duplicate user/item: ('22561437', 'B003VWKPHC')\n",
      "Skipping duplicate user/item: ('14945376', 'B00HVLUSGM')\n",
      "Skipping duplicate user/item: ('12738423', 'B000068O3T')\n",
      "Skipping duplicate user/item: ('7081001', 'B0098VHUEG')\n",
      "Skipping duplicate user/item: ('41554871', 'B005VLWHP4')\n",
      "Skipping duplicate user/item: ('25881037', 'B003OG9NH8')\n",
      "Skipping duplicate user/item: ('52621298', 'B000A6ASSS')\n",
      "Skipping duplicate user/item: ('10125876', 'B008U1P9QG')\n",
      "Skipping duplicate user/item: ('50181160', 'B0002E3FBA')\n",
      "Skipping duplicate user/item: ('44622391', 'B003OT9N48')\n",
      "Skipping duplicate user/item: ('48408803', 'B00HVLUR86')\n",
      "Skipping duplicate user/item: ('1976244', 'B0010CP5DY')\n",
      "Skipping duplicate user/item: ('1753779', 'B0002CZVU0')\n",
      "Skipping duplicate user/item: ('17036027', 'B00267QD8S')\n",
      "Skipping duplicate user/item: ('7472528', 'B00646MZHK')\n",
      "Skipping duplicate user/item: ('26003848', 'B00CICPN0K')\n",
      "Skipping duplicate user/item: ('27819775', 'B003BNZHSI')\n",
      "Skipping duplicate user/item: ('13011180', 'B006RJRBY6')\n",
      "Skipping duplicate user/item: ('50079991', 'B0002F5544')\n",
      "Skipping duplicate user/item: ('15398248', 'B0032BYCWG')\n",
      "Skipping duplicate user/item: ('32786226', 'B003FRMRC4')\n",
      "Skipping duplicate user/item: ('47300481', 'B004Z17008')\n",
      "Skipping duplicate user/item: ('36336335', 'B002MAKE98')\n",
      "Skipping duplicate user/item: ('25504145', 'B005CX4GLE')\n",
      "Skipping duplicate user/item: ('25189829', 'B003VWJ2K8')\n",
      "Skipping duplicate user/item: ('16333305', 'B002MAMCIE')\n",
      "Skipping duplicate user/item: ('5095315', 'B003VWKPHC')\n",
      "Skipping duplicate user/item: ('19017131', 'B0002D0A7S')\n",
      "Skipping duplicate user/item: ('11330459', 'B003VWJ2K8')\n",
      "Skipping duplicate user/item: ('48076283', 'B0002D09Q0')\n",
      "Skipping duplicate user/item: ('31588426', 'B005NACC6M')\n",
      "Skipping duplicate user/item: ('35281019', 'B00646MZHK')\n",
      "Skipping duplicate user/item: ('9878929', 'B0057OIUW4')\n",
      "Skipping duplicate user/item: ('48005643', 'B003QGPCTE')\n",
      "Skipping duplicate user/item: ('49974033', 'B0002FOBJY')\n",
      "Skipping duplicate user/item: ('13906387', 'B005NACC6M')\n",
      "Skipping duplicate user/item: ('12746123', 'B005NACC6M')\n",
      "Skipping duplicate user/item: ('14064980', 'B00ALR3XH4')\n",
      "Skipping duplicate user/item: ('20797342', 'B00ATP5KF6')\n",
      "Skipping duplicate user/item: ('32368781', 'B001BM4PTI')\n",
      "Skipping duplicate user/item: ('21145462', 'B003VWJ2K8')\n",
      "Skipping duplicate user/item: ('16420980', 'B007I0EGGO')\n",
      "Skipping duplicate user/item: ('45432948', 'B003PEU5SK')\n",
      "Skipping duplicate user/item: ('13174036', 'B006RJRBY6')\n",
      "Skipping duplicate user/item: ('14812308', 'B0029PONJS')\n",
      "Skipping duplicate user/item: ('52428106', 'B000Y010WS')\n",
      "Skipping duplicate user/item: ('52896636', 'B003AYLJXU')\n",
      "Skipping duplicate user/item: ('23539660', 'B0002E518U')\n",
      "Skipping duplicate user/item: ('25740618', 'B004ZL3AEI')\n",
      "Skipping duplicate user/item: ('25740618', 'B0006SE59S')\n",
      "Skipping duplicate user/item: ('12922606', 'B000065BP9')\n",
      "Skipping duplicate user/item: ('24873662', 'B0002M6AC8')\n",
      "Skipping duplicate user/item: ('52256186', 'B0002GY7KQ')\n",
      "Skipping duplicate user/item: ('18342171', 'B0002H0OCA')\n",
      "Skipping duplicate user/item: ('49600435', 'B0002F7JPC')\n",
      "Skipping duplicate user/item: ('52390258', 'B0006HY5PI')\n",
      "Skipping duplicate user/item: ('17281475', 'B00008MIGG')\n",
      "Skipping duplicate user/item: ('32535778', 'B0000DH7IT')\n",
      "Skipping duplicate user/item: ('29480926', 'B0000TFYK2')\n",
      "Skipping duplicate user/item: ('26926367', 'B00007CWI7')\n",
      "Skipping duplicate user/item: ('26926367', 'B00007CWI7')\n",
      "Skipping duplicate user/item: ('30727166', 'B00002MZ8M')\n",
      "Skipping duplicate user/item: ('50944807', 'B00006AMBW')\n",
      "Skipping duplicate user/item: ('50944807', 'B00006AMBW')\n",
      "Skipping duplicate user/item: ('50072613', 'B00005BMSN')\n",
      "Skipping duplicate user/item: ('36831311', 'B00005OWCU')\n",
      "Skipping duplicate user/item: ('33924930', 'B00005K9CI')\n",
      "Skipping duplicate user/item: ('35957274', 'B00005BWSN')\n",
      "Skipping duplicate user/item: ('52056770', 'B000062UI4')\n",
      "Skipping duplicate user/item: ('40818529', 'B00006L57W')\n",
      "Skipping duplicate user/item: ('38182161', 'B00005S8KM')\n",
      "Skipping duplicate user/item: ('39289364', 'B00004SY4H')\n",
      "Skipping duplicate user/item: ('50683331', 'B00005S8KM')\n",
      "Skipping duplicate user/item: ('39430726', 'B00004YUWT')\n",
      "Skipping duplicate user/item: ('41535371', 'B00002F2IZ')\n",
      "Skipping duplicate user/item: ('41535371', 'B00002F2IZ')\n",
      "Skipping duplicate user/item: ('48686420', 'B00004YAHE')\n",
      "Skipping duplicate user/item: ('50707323', 'B00005OQMY')\n",
      "Skipping duplicate user/item: ('46322021', 'B00005K9DX')\n",
      "Skipping duplicate user/item: ('52835176', 'B00002F2IZ')\n",
      "Skipping duplicate user/item: ('47736173', 'B00004YUWT')\n",
      "Skipping duplicate user/item: ('49350719', 'B00002DDSF')\n"
     ]
    }
   ],
   "source": [
    "dataset = []\n",
    "\n",
    "pairsSeen = set()\n",
    "\n",
    "for line in f:\n",
    "    fields = line.strip().split('\\t')\n",
    "    d = dict(zip(header, fields))\n",
    "    ui = (d['customer_id'], d['product_id'])\n",
    "    if ui in pairsSeen:\n",
    "        print(\"Skipping duplicate user/item:\", ui)\n",
    "        continue\n",
    "    pairsSeen.add(ui)\n",
    "    d['star_rating'] = int(d['star_rating'])\n",
    "    d['helpful_votes'] = int(d['helpful_votes'])\n",
    "    d['total_votes'] = int(d['total_votes'])\n",
    "    dataset.append(d)\n"
   ]
  },
  {
   "cell_type": "code",
   "execution_count": 944,
   "id": "1d3c0175-41bc-4267-be22-0dd98136345a",
   "metadata": {},
   "outputs": [
    {
     "data": {
      "text/plain": [
       "{'marketplace': 'US',\n",
       " 'customer_id': '45610553',\n",
       " 'review_id': 'RMDCHWD0Y5OZ9',\n",
       " 'product_id': 'B00HH62VB6',\n",
       " 'product_parent': '618218723',\n",
       " 'product_title': 'AGPtek® 10 Isolated Output 9V 12V 18V Guitar Pedal Board Power Supply Effect Pedals with Isolated Short Cricuit / Overcurrent Protection',\n",
       " 'product_category': 'Musical Instruments',\n",
       " 'star_rating': 3,\n",
       " 'helpful_votes': 0,\n",
       " 'total_votes': 1,\n",
       " 'vine': 'N',\n",
       " 'verified_purchase': 'N',\n",
       " 'review_headline': 'Three Stars',\n",
       " 'review_body': 'Works very good, but induces ALOT of noise.',\n",
       " 'review_date': '2015-08-31'}"
      ]
     },
     "execution_count": 944,
     "metadata": {},
     "output_type": "execute_result"
    }
   ],
   "source": [
    "dataTrain = dataset[:int(len(dataset)*0.9)]\n",
    "dataTest = dataset[int(len(dataset)*0.9):]\n",
    "dataTrain[0]"
   ]
  },
  {
   "cell_type": "code",
   "execution_count": 945,
   "id": "f3440cf1-2366-4d69-a4ae-a8ca5e2ea9f5",
   "metadata": {},
   "outputs": [],
   "source": [
    "# Feel free to keep or discard\n",
    "\n",
    "usersPerItem = defaultdict(set) # Maps an item to the users who rated it\n",
    "itemsPerUser = defaultdict(set) # Maps a user to the items that they rated\n",
    "itemNames = {}\n",
    "ratingDict = {} # To retrieve a rating for a specific user/item pair\n",
    "reviewsPerUser = defaultdict(list)\n",
    "\n",
    "for d in dataset:\n",
    "    user,item = d['customer_id'], d['product_id']\n",
    "    usersPerItem[item].add(user)\n",
    "    itemsPerUser[user].add(item)\n",
    "    ratingDict[(user,item)] = d['star_rating']\n",
    "    itemNames[item] = d['product_title']"
   ]
  },
  {
   "cell_type": "code",
   "execution_count": 946,
   "id": "62880122-0f22-43c6-afca-fdc9699e97f4",
   "metadata": {},
   "outputs": [],
   "source": [
    "userAverages = {}\n",
    "itemAverages = {}\n",
    "\n",
    "for u in itemsPerUser:\n",
    "    rs = [ratingDict[(u,i)] for i in itemsPerUser[u]]\n",
    "    userAverages[u] = sum(rs) / len(rs)\n",
    "    \n",
    "for i in usersPerItem:\n",
    "    rs = [ratingDict[(u,i)] for u in usersPerItem[i]]\n",
    "    itemAverages[i] = sum(rs) / len(rs)\n",
    "ratingMean = sum([d['star_rating'] for d in dataset]) / len(dataset)"
   ]
  },
  {
   "cell_type": "code",
   "execution_count": 947,
   "id": "9415da7b-4a56-4093-a5bd-eea40d99e3f7",
   "metadata": {},
   "outputs": [],
   "source": [
    "def Jaccard(s1, s2):\n",
    "    numer = len(s1.intersection(s2))\n",
    "    denom = len(s1.union(s2))\n",
    "    if denom == 0:\n",
    "        return 0\n",
    "    return numer / denom"
   ]
  },
  {
   "cell_type": "code",
   "execution_count": 948,
   "id": "83816a03-6c51-4d1d-ae08-9490d4d38b70",
   "metadata": {},
   "outputs": [],
   "source": [
    "def mostSimilar(i, N):\n",
    "    similarities = []\n",
    "    users = usersPerItem[i]\n",
    "    for i2 in usersPerItem:\n",
    "        if i2 == i: continue\n",
    "        sim = Jaccard(users, usersPerItem[i2])\n",
    "        #sim = Pearson(i, i2) # Could use alternate similarity metrics straightforwardly\n",
    "        similarities.append((sim,i2))\n",
    "    similarities.sort(reverse=True)\n",
    "    return similarities[:N]"
   ]
  },
  {
   "cell_type": "code",
   "execution_count": 949,
   "id": "5680865b-5249-4834-b019-3628857510a5",
   "metadata": {},
   "outputs": [],
   "source": [
    "query = 'B00KCHRKD6'"
   ]
  },
  {
   "cell_type": "code",
   "execution_count": 950,
   "id": "38b430ca-4e4b-4a1e-b38c-2a1c448dbdef",
   "metadata": {},
   "outputs": [],
   "source": [
    "ms = mostSimilar(query, 10)"
   ]
  },
  {
   "cell_type": "code",
   "execution_count": 951,
   "id": "2b8d21ce-2cec-460f-bbdf-e943a9cbed6a",
   "metadata": {},
   "outputs": [
    {
     "data": {
      "text/plain": [
       "[(0.015228426395939087, 'B00H7NFDKA'),\n",
       " (0.014492753623188406, 'B00QKVV3HC'),\n",
       " (0.014492753623188406, 'B00GXRMD7W'),\n",
       " (0.014084507042253521, 'B00H7ILRRI'),\n",
       " (0.014084507042253521, 'B0057RUMPO'),\n",
       " (0.014084507042253521, 'B000B6DTYW'),\n",
       " (0.013888888888888888, 'B00L2708TI'),\n",
       " (0.013513513513513514, 'B009Z1KKWI'),\n",
       " (0.013333333333333334, 'B003F2BDZQ'),\n",
       " (0.013333333333333334, 'B000VYINCW')]"
      ]
     },
     "execution_count": 951,
     "metadata": {},
     "output_type": "execute_result"
    }
   ],
   "source": [
    "answers['Q5'] = ms\n",
    "answers['Q5']"
   ]
  },
  {
   "cell_type": "code",
   "execution_count": 952,
   "id": "57b7fb52-248a-4d11-a924-b8744aecd7a1",
   "metadata": {},
   "outputs": [],
   "source": [
    "assertFloatList([m[0] for m in ms], 10)"
   ]
  },
  {
   "cell_type": "code",
   "execution_count": 953,
   "id": "1e6fe1df-9464-4dc9-a58e-b6b1a6168803",
   "metadata": {},
   "outputs": [],
   "source": [
    "### Question 6\n",
    "usersPerItem = defaultdict(set) # Maps an item to the users who rated it\n",
    "itemsPerUser = defaultdict(set) # Maps a user to the items that they rated\n",
    "itemNames = {}\n",
    "ratingDict = {} # To retrieve a rating for a specific user/item pair\n",
    "reviewsPerUser = defaultdict(list)\n",
    "\n",
    "for d in dataTrain:\n",
    "    user,item = d['customer_id'], d['product_id']\n",
    "    usersPerItem[item].add(user)\n",
    "    itemsPerUser[user].add(item)\n",
    "    ratingDict[(user,item)] = d['star_rating']\n",
    "    itemNames[item] = d['product_title']\n",
    "    reviewsPerUser[user].append(d)\n",
    "    \n",
    "userAverages = {}\n",
    "itemAverages = {}\n",
    "\n",
    "for u in itemsPerUser:\n",
    "    rs = [ratingDict[(u,i)] for i in itemsPerUser[u]]\n",
    "    userAverages[u] = sum(rs) / len(rs)\n",
    "    \n",
    "for i in usersPerItem:\n",
    "    rs = [ratingDict[(u,i)] for u in usersPerItem[i]]\n",
    "    itemAverages[i] = sum(rs) / len(rs)\n",
    "    \n",
    "ratingMean = sum([d['star_rating'] for d in dataTrain]) / len(dataTrain)"
   ]
  },
  {
   "cell_type": "code",
   "execution_count": 954,
   "id": "fe6c50d2-22b2-44cb-b29b-e08ac999d947",
   "metadata": {},
   "outputs": [],
   "source": [
    "def MSE(pred, labels):\n",
    "    differences = [(x-y)**2 for x,y in zip(pred,labels)]\n",
    "    return sum(differences) / len(differences)"
   ]
  },
  {
   "cell_type": "code",
   "execution_count": 955,
   "id": "4247a1f0-189d-44d3-80c4-a21669673f90",
   "metadata": {},
   "outputs": [],
   "source": [
    "def predictRating(user,item):\n",
    "    ratings = []\n",
    "    similarities = []\n",
    "    for d in reviewsPerUser[user]:\n",
    "        i2 = d['product_id']\n",
    "        if i2 == item: continue\n",
    "        ratings.append(d['star_rating'] - itemAverages[i2])\n",
    "        similarities.append(Jaccard(usersPerItem[item],usersPerItem[i2]))\n",
    "    if (sum(similarities) > 0):\n",
    "        weightedRatings = [(x*y) for x,y in zip(ratings,similarities)]\n",
    "        return itemAverages[item] + sum(weightedRatings) / sum(similarities)\n",
    "    elif item not in itemAverages:\n",
    "        return ratingMean \n",
    "    else:\n",
    "        # User hasn't rated any similar items\n",
    "        return itemAverages[item]"
   ]
  },
  {
   "cell_type": "code",
   "execution_count": 956,
   "id": "242de977-3b55-4ffb-9300-5f0cc8c30424",
   "metadata": {},
   "outputs": [],
   "source": [
    "alwaysPredictMean = [ratingMean for d in dataTest]"
   ]
  },
  {
   "cell_type": "code",
   "execution_count": 957,
   "id": "6dd35154-0402-44ee-be29-cab6699c2f1a",
   "metadata": {},
   "outputs": [],
   "source": [
    "simPredictions = [predictRating(d['customer_id'], d['product_id']) for d in dataTest]"
   ]
  },
  {
   "cell_type": "code",
   "execution_count": 958,
   "id": "003fa11f-0c3a-4af2-80f1-d400863c067d",
   "metadata": {},
   "outputs": [],
   "source": [
    "labels = [d['star_rating'] for d in dataTest]"
   ]
  },
  {
   "cell_type": "code",
   "execution_count": null,
   "id": "209333fb-2e1f-422c-8e7f-e8815424f023",
   "metadata": {},
   "outputs": [],
   "source": []
  },
  {
   "cell_type": "code",
   "execution_count": 959,
   "id": "31e6735d-4e79-4584-adfa-4c4497a84a4a",
   "metadata": {},
   "outputs": [
    {
     "data": {
      "text/plain": [
       "1.7165666373341593"
      ]
     },
     "execution_count": 959,
     "metadata": {},
     "output_type": "execute_result"
    }
   ],
   "source": [
    "answers['Q6'] = MSE(simPredictions, labels)\n",
    "answers['Q6']"
   ]
  },
  {
   "cell_type": "code",
   "execution_count": 960,
   "id": "01b6b0eb-575c-4d4f-8a2a-8fefafe873f9",
   "metadata": {},
   "outputs": [],
   "source": [
    "assertFloat(answers['Q6'])"
   ]
  },
  {
   "cell_type": "code",
   "execution_count": 961,
   "id": "5268ae3a-b7b9-4b52-ba37-6d6363261396",
   "metadata": {},
   "outputs": [],
   "source": [
    "### Question 7"
   ]
  },
  {
   "cell_type": "code",
   "execution_count": 995,
   "id": "81dc3028-770b-4741-abf9-789205c07eb7",
   "metadata": {},
   "outputs": [],
   "source": [
    "for d in dataTest:\n",
    "    arr = d['review_date'].split('-')\n",
    "    year, month, day = arr[0], arr[1], arr[2]\n",
    "    t = date(int(year), int(month), int(day))\n",
    "    timeDict[(d['customer_id'], d['product_id'])] = t\n",
    "    \n",
    "def predictRating(user,item):\n",
    "    ratings = []\n",
    "    similarities = []\n",
    "    times = []\n",
    "    for d in reviewsPerUser[user]:\n",
    "        i2 = d['product_id']\n",
    "        if i2 == item: continue\n",
    "        ratings.append(d['star_rating'] - itemAverages[i2])\n",
    "        similarities.append(Jaccard(usersPerItem[item],usersPerItem[i2]))\n",
    "        arr = d['review_date'].split('-')\n",
    "        year, month, day = arr[0], arr[1], arr[2]\n",
    "        t = date(int(year), int(month), int(day))\n",
    "        times.append(t)\n",
    "    if (sum(similarities) > 0):\n",
    "        t = timeDict[(user,item)]\n",
    "        weightedRatings = [x*y*abs((t-z).seconds) for x,y,z in zip(ratings,similarities,times)]\n",
    "        return itemAverages[item] + sum(weightedRatings) / sum([y*abs((t-z).seconds+1) for y,z in zip(similarities,times)])\n",
    "    elif item not in itemAverages:\n",
    "        return ratingMean \n",
    "    else:\n",
    "        # User hasn't rated any similar items\n",
    "        return itemAverages[item]\n",
    "simPredictions = [predictRating(d['customer_id'], d['product_id']) for d in dataTest]\n",
    "labels = [d['star_rating'] for d in dataTest]\n",
    "itsMSE =  MSE(simPredictions, labels)"
   ]
  },
  {
   "cell_type": "code",
   "execution_count": 997,
   "id": "5bd20307-5913-46d5-930d-53caf359f685",
   "metadata": {},
   "outputs": [
    {
     "data": {
      "text/plain": [
       "['Items that are reviewed more closely with each other in terms of time holds more weight. My function is f(|t(u,i) − t(u,j)|)',\n",
       " 1.6993689339769356]"
      ]
     },
     "execution_count": 997,
     "metadata": {},
     "output_type": "execute_result"
    }
   ],
   "source": [
    "answers['Q7'] = [\"Items that are reviewed more closely with each other in terms of time holds more weight. My function is f(|t(u,i) − t(u,j)|)\", itsMSE]\n",
    "answers['Q7']"
   ]
  },
  {
   "cell_type": "code",
   "execution_count": 998,
   "id": "98c31bb6-e8f8-4f9f-ac15-2e120f24613d",
   "metadata": {},
   "outputs": [],
   "source": [
    "assertFloat(answers['Q7'][1])"
   ]
  },
  {
   "cell_type": "code",
   "execution_count": 999,
   "id": "a9cdbf74",
   "metadata": {},
   "outputs": [],
   "source": [
    "f = open(\"answers_hw2.txt\", 'w')\n",
    "f.write(str(answers) + '\\n')\n",
    "f.close()"
   ]
  },
  {
   "cell_type": "code",
   "execution_count": null,
   "id": "2ec77684-ccf1-4f77-abd4-526d42fb4e35",
   "metadata": {},
   "outputs": [],
   "source": []
  }
 ],
 "metadata": {
  "kernelspec": {
   "display_name": "Python 3 (ipykernel)",
   "language": "python",
   "name": "python3"
  },
  "language_info": {
   "codemirror_mode": {
    "name": "ipython",
    "version": 3
   },
   "file_extension": ".py",
   "mimetype": "text/x-python",
   "name": "python",
   "nbconvert_exporter": "python",
   "pygments_lexer": "ipython3",
   "version": "3.10.9"
  }
 },
 "nbformat": 4,
 "nbformat_minor": 5
}
